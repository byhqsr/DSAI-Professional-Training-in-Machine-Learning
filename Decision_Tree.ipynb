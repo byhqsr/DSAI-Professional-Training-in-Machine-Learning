{
  "nbformat": 4,
  "nbformat_minor": 0,
  "metadata": {
    "colab": {
      "name": "Decision_Tree.ipynb",
      "provenance": [],
      "collapsed_sections": [],
      "authorship_tag": "ABX9TyPeNWmnFORBijTev1wf/xg2",
      "include_colab_link": true
    },
    "kernelspec": {
      "name": "python3",
      "display_name": "Python 3"
    },
    "language_info": {
      "name": "python"
    }
  },
  "cells": [
    {
      "cell_type": "markdown",
      "metadata": {
        "id": "view-in-github",
        "colab_type": "text"
      },
      "source": [
        "<a href=\"https://colab.research.google.com/github/byhqsr/DSAI-Professional-Training-in-Machine-Learning/blob/main/Decision_Tree.ipynb\" target=\"_parent\"><img src=\"https://colab.research.google.com/assets/colab-badge.svg\" alt=\"Open In Colab\"/></a>"
      ]
    },
    {
      "cell_type": "markdown",
      "metadata": {
        "id": "RqsNrM_cvOTh"
      },
      "source": [
        "We're now going to use the decision trees algorithm to predict the tip a guest will provide to the restaurant after their meal based on other variables.\n",
        "\n",
        "The dataset for this example is the tips dataset from Seaborn (https://raw.githubusercontent.com/mwaskom/seaborn-data/master/tips.csv). This dataset contains information about restaurant tips provided by diners. Note that the full dataset has 244 rows (diners).\n",
        "\n",
        "Data Scrubbing:\n",
        "*   One-hot encoding for the variables time, day, and sex\n",
        "*   Delete variable smoker\n",
        "\n",
        "Independent Variables:\n",
        "*   total_bill\n",
        "*   sex\n",
        "*   day\n",
        "*   time\n",
        "*   size\n",
        "\n",
        "Dependent Variable:\n",
        "*   tip\n",
        "\n",
        "Evaluation:\n",
        "*   Mean absolute error"
      ]
    },
    {
      "cell_type": "code",
      "metadata": {
        "id": "No1pQ5zQvIBg"
      },
      "source": [
        "# 1) Import the following Python libraries: A) pandas B) train_test_split from Scikit-learn C) DecisionTreeRegressor from Scikit-learn D) mean_absolute_error from Scikit-learn\n",
        "import pandas as pd \n",
        "from sklearn.model_selection import train_test_split\n",
        "from sklearn.tree import DecisionTreeRegressor\n",
        "from sklearn.metrics import mean_absolute_error"
      ],
      "execution_count": null,
      "outputs": []
    },
    {
      "cell_type": "code",
      "metadata": {
        "id": "Za-dP7EWwXh4"
      },
      "source": [
        "# 2) Import dataset from the web: https://raw.githubusercontent.com/mwaskom/seaborn-data/master/tips.csv\n",
        "df = pd.read_csv('https://raw.githubusercontent.com/mwaskom/seaborn-data/master/tips.csv')\n",
        "df"
      ],
      "execution_count": null,
      "outputs": []
    },
    {
      "cell_type": "code",
      "metadata": {
        "id": "vwBzmqmcwpb-"
      },
      "source": [
        "# 3) Delete variable smoker\n",
        "del df['smoker']"
      ],
      "execution_count": null,
      "outputs": []
    },
    {
      "cell_type": "code",
      "metadata": {
        "id": "97aOlpAMwxAr"
      },
      "source": [
        "# 4) Convert non-numeric variables using one-hot encoding. These variables include: time, day, and sex.\n",
        "df = pd.get_dummies(df, columns=['time', 'day','sex'])"
      ],
      "execution_count": null,
      "outputs": []
    },
    {
      "cell_type": "code",
      "metadata": {
        "id": "URKIUpEVxA54"
      },
      "source": [
        "# 5) Assign the X and y variables\n",
        "X = df.drop('tip',axis=1)\n",
        "y = df['tip']"
      ],
      "execution_count": null,
      "outputs": []
    },
    {
      "cell_type": "code",
      "metadata": {
        "id": "H1_Vgy7XxIn9"
      },
      "source": [
        "# 6) Shuffle the dataset and split the data into test/train sets (70/30 split)\n",
        "X_train, X_test, y_train, y_test = train_test_split(X, y, test_size=0.3, shuffle=True)"
      ],
      "execution_count": null,
      "outputs": []
    },
    {
      "cell_type": "code",
      "metadata": {
        "id": "GDplXAJOxRcz"
      },
      "source": [
        "# 7) Assign DecisionTreeRegressor as the model's algorithm\n",
        "model = DecisionTreeRegressor()"
      ],
      "execution_count": null,
      "outputs": []
    },
    {
      "cell_type": "code",
      "metadata": {
        "id": "4Hdq-zdDxaat"
      },
      "source": [
        "# 8) Link model to X and y variables using the fit function\n",
        "model.fit(X_train, y_train)"
      ],
      "execution_count": null,
      "outputs": []
    },
    {
      "cell_type": "code",
      "metadata": {
        "id": "OmqhJRgJxk5l"
      },
      "source": [
        "# 9) Evaluate predictions by comparing the model's predictions and the actual outcome of the test data using mean absolute error\n",
        "# Check prediction error for training data using MAE\n",
        "mae_train = mean_absolute_error(y_train, model.predict(X_train))\n",
        "print (\"Training Set Mean Absolute Error: %.2f\" % mae_train)"
      ],
      "execution_count": null,
      "outputs": []
    },
    {
      "cell_type": "code",
      "metadata": {
        "id": "VFlmIUpPyQpn"
      },
      "source": [
        "# Check prediction error for test data using MAE\n",
        "mae_test = mean_absolute_error(y_test, model.predict(X_test))\n",
        "print (\"Test Set Mean Absolute Error: %.2f\" % mae_test)"
      ],
      "execution_count": null,
      "outputs": []
    },
    {
      "cell_type": "code",
      "metadata": {
        "id": "22kzj9hByxcR"
      },
      "source": [
        "# 10) Make a prediction with the model using a sample data point and the predict function\n",
        "# Data point to predict\n",
        "sample_data_point = [\n",
        "\t40, #total_bill\n",
        "\t2, #size\n",
        "\t1, #time_dinner\n",
        "\t0, #time_lunch\n",
        "\t1, #day_fri\n",
        "\t0, #day_sat\n",
        "\t0, #day_sun\n",
        "\t0, #day_thur\n",
        "\t1, #sex_female\n",
        "\t0, #sex_male\n",
        "]"
      ],
      "execution_count": null,
      "outputs": []
    },
    {
      "cell_type": "code",
      "metadata": {
        "id": "EAVr7blPzFAh"
      },
      "source": [
        "# Make prediction\n",
        "prediction = model.predict([sample_data_point])\n",
        "prediction"
      ],
      "execution_count": null,
      "outputs": []
    }
  ]
}