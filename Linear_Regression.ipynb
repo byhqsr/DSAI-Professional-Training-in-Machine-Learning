{
  "nbformat": 4,
  "nbformat_minor": 0,
  "metadata": {
    "colab": {
      "name": "Linear_Regression.ipynb",
      "provenance": [],
      "collapsed_sections": [],
      "authorship_tag": "ABX9TyPXlgK9vqGo6/UV+fY+/lVu",
      "include_colab_link": true
    },
    "kernelspec": {
      "name": "python3",
      "display_name": "Python 3"
    },
    "language_info": {
      "name": "python"
    }
  },
  "cells": [
    {
      "cell_type": "markdown",
      "metadata": {
        "id": "view-in-github",
        "colab_type": "text"
      },
      "source": [
        "<a href=\"https://colab.research.google.com/github/byhqsr/DSAI-Professional-Training-in-Machine-Learning/blob/main/Linear_Regression.ipynb\" target=\"_parent\"><img src=\"https://colab.research.google.com/assets/colab-badge.svg\" alt=\"Open In Colab\"/></a>"
      ]
    },
    {
      "cell_type": "markdown",
      "metadata": {
        "id": "Fw8RKGvOK-_e"
      },
      "source": [
        "In this lesson, we're going to use linear regression to predict the tip a guest will provide to the restaurant after their meal based on numerous known variables.\n",
        "\n",
        "The dataset for this example is the tips dataset from Seaborn (https://raw.githubusercontent.com/mwaskom/seaborn-data/master/tips.csv). This dataset contains information about restaurant tips provided by diners. Note that the full dataset has 244 rows (diners).\n",
        "\n",
        "Exploratory Data Analysis:\n",
        "*   Heatmap and pairplot analysis to check X variables are not highly correlated to each other\n",
        "*   Heatmap and pairplot analysis to check X variables are correlated to the y variable\n",
        "\n",
        "Data Scrubbing:\n",
        "*   One-hot encoding for the variables time, day, and sex\n",
        "*   Delete variable smoker\n",
        "\n",
        "Independent Variables:\n",
        "*   total_bill\n",
        "*   sex\n",
        "*   day\n",
        "*   time\n",
        "*   size\n",
        "\n",
        "Dependent Variable:\n",
        "*   tip\n",
        "\n",
        "Evaluation:\n",
        "*   Mean absolute error"
      ]
    },
    {
      "cell_type": "code",
      "metadata": {
        "id": "5BMX-xCh8452"
      },
      "source": [
        "# 1) Import the following Python libraries: A) pandas B) train_test_split from Scikit-learn C) LinearRegression from Scikit-learn D) mean_absolute_error from Scikit-learn E) seaborn F) matplotlib\n",
        "import pandas as pd \n",
        "from sklearn.model_selection import train_test_split\n",
        "from sklearn.linear_model import LinearRegression\n",
        "import seaborn as sns\n",
        "import matplotlib.pyplot as plt\n",
        "from sklearn.metrics import mean_absolute_error"
      ],
      "execution_count": null,
      "outputs": []
    },
    {
      "cell_type": "code",
      "metadata": {
        "id": "U00EvSZA8_Z3"
      },
      "source": [
        "# 2) Import dataset from the web: https://raw.githubusercontent.com/mwaskom/seaborn-data/master/tips.csv\n",
        "df = pd.read_csv('https://raw.githubusercontent.com/mwaskom/seaborn-data/master/tips.csv')\n",
        "df"
      ],
      "execution_count": null,
      "outputs": []
    },
    {
      "cell_type": "code",
      "metadata": {
        "id": "ob1fONk99IoN"
      },
      "source": [
        "# 3) Exploratory data analysis using heatmap and pairplot to check the correlation between variables\n",
        "# Exploratory data analysis: heatmap\n",
        "df_corr = df.corr()\n",
        "sns.heatmap(df_corr,annot=True,cmap='coolwarm')"
      ],
      "execution_count": null,
      "outputs": []
    },
    {
      "cell_type": "code",
      "metadata": {
        "id": "7Ne-paED9Lku"
      },
      "source": [
        "# Exploratory data analysis: pairplot\n",
        "sns.pairplot(df)"
      ],
      "execution_count": null,
      "outputs": []
    },
    {
      "cell_type": "code",
      "metadata": {
        "id": "nvtTLdfF9ObT"
      },
      "source": [
        "# 4) Delete smoker variable\n",
        "del df['smoker']"
      ],
      "execution_count": null,
      "outputs": []
    },
    {
      "cell_type": "code",
      "metadata": {
        "id": "w-SuoLFb9Szx"
      },
      "source": [
        "# 5) Convert non-numeric variables using one-hot encoding. These variables include: time, day, and sex\n",
        "df = pd.get_dummies(df, columns=['time', 'day','sex'])"
      ],
      "execution_count": null,
      "outputs": []
    },
    {
      "cell_type": "code",
      "metadata": {
        "id": "rf7u6FGS9YEa"
      },
      "source": [
        "# 6) Assign the X and y variables\n",
        "X = df.drop('tip',axis=1)\n",
        "y = df['tip']"
      ],
      "execution_count": null,
      "outputs": []
    },
    {
      "cell_type": "code",
      "metadata": {
        "id": "xbn_tCJQ9bRJ"
      },
      "source": [
        "# 7) Shuffle the dataset and split the data into test/train sets (70/30 split)\n",
        "X_train, X_test, y_train, y_test = train_test_split(X, y, test_size=0.3, shuffle=True)"
      ],
      "execution_count": null,
      "outputs": []
    },
    {
      "cell_type": "code",
      "metadata": {
        "id": "CW0iCEpP9fsP"
      },
      "source": [
        "# 8) Assign LinearRegression as the model's algorithm\n",
        "model = LinearRegression()"
      ],
      "execution_count": null,
      "outputs": []
    },
    {
      "cell_type": "code",
      "metadata": {
        "id": "W0X6EDbb9idR"
      },
      "source": [
        "# 9) Link model to X and y variables using the fit function\n",
        "model.fit(X_train, y_train)"
      ],
      "execution_count": null,
      "outputs": []
    },
    {
      "cell_type": "code",
      "metadata": {
        "id": "lfORPDP49lbU"
      },
      "source": [
        "# 10) Run algorithm on test data to make predictions\n",
        "#Find y-intercept\n",
        "model.intercept_"
      ],
      "execution_count": null,
      "outputs": []
    },
    {
      "cell_type": "code",
      "metadata": {
        "id": "PlJljoCe9oa3"
      },
      "source": [
        "# Find x coefficients\n",
        "model.coef_"
      ],
      "execution_count": null,
      "outputs": []
    },
    {
      "cell_type": "code",
      "metadata": {
        "id": "TXgQt4c_9r42"
      },
      "source": [
        "# 11) Evaluate predictions by comparing the model's predictions and the actual outcome of the test data using mean absolute error\n",
        "# Check prediction error for training data using MAE\n",
        "mae_train = mean_absolute_error(y_train, model.predict(X_train))\n",
        "print (\"Training Set Mean Absolute Error: %.2f\" % mae_train)"
      ],
      "execution_count": null,
      "outputs": []
    },
    {
      "cell_type": "code",
      "metadata": {
        "id": "l-284-d99vce"
      },
      "source": [
        "# Check prediction error for test data using MAE\n",
        "mae_test = mean_absolute_error(y_test, model.predict(X_test))\n",
        "print (\"Test Set Mean Absolute Error: %.2f\" % mae_test)"
      ],
      "execution_count": null,
      "outputs": []
    },
    {
      "cell_type": "code",
      "metadata": {
        "id": "bd4RkPMy9yHB"
      },
      "source": [
        "# 12) Make a prediction with the model using a sample data point and the predict function\n",
        "# Data point to predict\n",
        "sample_data_point = [\n",
        "\t40, #total_bill\n",
        "\t2, #size\n",
        "\t1, #time_dinner\n",
        "\t0, #time_lunch\n",
        "\t1, #day_fri\n",
        "\t0, #day_sat\n",
        "\t0, #day_sun\n",
        "\t0, #day_thur\n",
        "\t1, #sex_female\n",
        "\t0, #sex_male\n",
        "]"
      ],
      "execution_count": null,
      "outputs": []
    },
    {
      "cell_type": "code",
      "metadata": {
        "id": "BXLW1ZEs92mu"
      },
      "source": [
        "# Make prediction\n",
        "prediction = model.predict([sample_data_point])\n",
        "prediction"
      ],
      "execution_count": null,
      "outputs": []
    }
  ]
}